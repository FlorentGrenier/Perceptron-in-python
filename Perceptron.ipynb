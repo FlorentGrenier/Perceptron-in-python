{
  "nbformat": 4,
  "nbformat_minor": 0,
  "metadata": {
    "colab": {
      "name": "Perceptron.ipynb",
      "provenance": [],
      "collapsed_sections": []
    },
    "kernelspec": {
      "name": "python3",
      "display_name": "Python 3"
    }
  },
  "cells": [
    {
      "cell_type": "markdown",
      "metadata": {
        "id": "vpTkTwsUDqfM"
      },
      "source": [
        "#Perceptron"
      ]
    },
    {
      "cell_type": "code",
      "metadata": {
        "id": "hXDH-GHMmiDr"
      },
      "source": [
        "from numpy import exp, array, random, dot\r\n",
        "\r\n",
        "class Perceptron():\r\n",
        "  def __init__(self):\r\n",
        "    # Start the random number generator to generate the same numbers\r\n",
        "    # each time the program is run.\r\n",
        "    random.seed(1)\r\n",
        "\r\n",
        "    # We model a single neuron, with 3 input connections and 1 output connection.\r\n",
        "    # We assign random weights to a 3 x 1 matrix, with values ​​between 0 and 1.\r\n",
        "    self.synaptic_weights = 2 * random.random((3,1))-1\r\n",
        "\r\n",
        "    # The sigmoid function, which describes an S-shaped curve.\r\n",
        "    # We pass the weighted sum of the inputs via this function to\r\n",
        "    # normalize them between 0 and 1.\r\n",
        "    def __sigmoid(self, x):\r\n",
        "      return 1 / (1 + exp(-x))\r\n",
        "\r\n",
        "    # The derivative of the sigmoid function.\r\n",
        "    # This is the gradient of the sigmoid curve.\r\n",
        "    # This indicates how sure we are of the existing weight.\r\n",
        "    def __sigmoid_derivative(self, x):\r\n",
        "      return x * (1 - x)\r\n",
        "\r\n",
        "    # The perceptron thinks.\r\n",
        "    def think(self, inputs):\r\n",
        "      # Pass the inputs through the neuron.\r\n",
        "      return self.__sigmoid(dot(inputs, self.synaptic_weights))\r\n",
        "\r\n",
        "\r\n",
        "    # We train the perceptron through a process of trial and error.\r\n",
        "    # With adjustment of synaptic weights each time.\r\n",
        "    def train(self, training_set_inputs, traning_set_outputs, number_of_training_iterations):\r\n",
        "      for iteration in xrange(number_of_training_iterations):\r\n",
        "\r\n",
        "        # Pass all the training data through our neuron.\r\n",
        "        output = self.think(training_set_inputs)\r\n",
        "\r\n",
        "        # Calculate the error (the difference between the desired output and the expected output).\r\n",
        "        error = traning_set_outputs - output\r\n",
        "\r\n",
        "        # Multiply the error by the input and again by the gradient of the sigmoid curve.\r\n",
        "        # This means less confident weights are adjusted further.\r\n",
        "        # This means that the entries, which are zero, do not modify the weights.\r\n",
        "        adjustement = dot(training_set_inputs.T, error * self.__sigmoid_derivative(output))\r\n",
        "\r\n",
        "        # Adjust the weights.\r\n",
        "        self.synaptic_weights = adjustement\r\n"
      ],
      "execution_count": null,
      "outputs": []
    },
    {
      "cell_type": "code",
      "metadata": {
        "id": "i8QB-04mstls"
      },
      "source": [
        "if __name__ == \"__main__\":\r\n",
        "\r\n",
        "  # Initialize a perceptron\r\n",
        "  perceptron = Perceptron()\r\n",
        "\r\n",
        "  print(\"Random starting synaptic weights : \")\r\n",
        "  print(perceptron.synaptic_weights)\r\n",
        "\r\n",
        "  # All training data. We have 4 examples, each made up of 3 input values\r\n",
        "  # and 1 output value.\r\n",
        "  training_set_inputs = array([[0, 0, 1], [1, 1, 1], [1, 0, 1], [0, 1, 1]])\r\n",
        "  training_set_outputs = array([[0, 1, 1, 0]]).T\r\n",
        "\r\n",
        "  # Train the neural network using a set of training data.\r\n",
        "  # Do it 10,000 times and adjust it each time.\r\n",
        "  perceptron.train(training_set_inputs, training_set_outputs, 10000)\r\n",
        "\r\n",
        "  print(\"New synaptic weights after training : \")\r\n",
        "  print(neural_network.synaptic_weights)\r\n",
        "\r\n",
        " # Test the neural network with a new situation.\r\n",
        "  print(\"Considering the new situation [1, 0, 0] ->? : \")\r\n",
        "  print(neural_network.think(array([1, 0, 0])))\r\n",
        "\r\n"
      ],
      "execution_count": null,
      "outputs": []
    }
  ]
}